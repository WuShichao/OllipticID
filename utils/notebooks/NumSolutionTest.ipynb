{
 "cells": [
  {
   "cell_type": "markdown",
   "metadata": {},
   "source": [
    "# Selected calculation for \n",
    "## Binary Black Hole merger in $f(R)$ theory\n",
    "### Zhoujian Cao ,  Pablo Galaviz,  and Li-Fang Li3 \n",
    "### DOI: https://doi.org/10.1103/PhysRevD.87.104029\n",
    "### ArXiv: https://arxiv.org/abs/1608.07816"
   ]
  },
  {
   "cell_type": "code",
   "execution_count": 1,
   "metadata": {
    "collapsed": true
   },
   "outputs": [],
   "source": [
    "import numpy as np \n",
    "import pandas as pd \n",
    "import matplotlib.pyplot as plt \n",
    "from scipy.integrate import ode\n",
    "%matplotlib inline "
   ]
  },
  {
   "cell_type": "markdown",
   "metadata": {},
   "source": [
    "# C. Results \n",
    "## 1. Test problem \n",
    "\n",
    "Numerical solution of \n",
    "\n",
    "(41)$$ \\psi_1''+ \\pi \\psi_1(\\phi')+2\\pi V(r)\\frac{\\psi_1^5}{r^4} =0,$$\n",
    "(42)$$ \\psi_1(0) = 0,$$ \n",
    "(43)$$ \\psi_1'(r_\\mathrm{max} ) = 1.$$ "
   ]
  },
  {
   "cell_type": "markdown",
   "metadata": {},
   "source": [
    "## Case I \n",
    "\n",
    "We use the following scalar field and potential (**note that the paper has a missing factor before $\\phi_0$**):\n",
    "\n",
    "$$ \\phi(r)=\\left( \\frac{a_2^2}{a_2^2+1}\\right)\\phi_0 \\tanh[(r-r_0])/\\sigma ,$$\n",
    "$$ V(r)=0$$\n",
    "\n",
    "We will reduce (41) to a first order form introducing $y_0=\\psi_1$ and $y_1:=\\psi_1'$ \n",
    "\n",
    "therefore. In first order form: \n",
    "\n",
    "\n",
    "(41-a')$$ y_0'=y_1,$$\n",
    "(41-b')$$ y_1'= - \\pi y_0(\\phi'),$$\n",
    "(42')$$ y_0(0) = 0,$$ \n",
    "(43')$$ y_1(r_\\mathrm{max} ) = 1.$$ \n",
    "\n",
    "in code we refer to the right hand side of this system as `rhs_TI`"
   ]
  },
  {
   "cell_type": "code",
   "execution_count": 2,
   "metadata": {
    "collapsed": true
   },
   "outputs": [],
   "source": [
    "r0=120.\n",
    "sigma=8.\n",
    "phi0=1/40.\n",
    "a2=1\n",
    "\n",
    "def rhs_TI(t, y):\n",
    "    dphi=(a2**2/(a2**2+1))*phi0*(1-np.tanh((t-r0)/sigma)**2)/sigma\n",
    "    return [y[1], -np.pi*y[0]*dphi**2]\n",
    "\n",
    "def integrate_rhs(_x,_ode_solver,_rf,_dr=0.1,save_data=False):    \n",
    "    y0, r0 = [0.0, _x], 0        \n",
    "    _ode_solver.set_initial_value(y0, r0)\n",
    "    data_list=list()\n",
    "    while _ode_solver.successful() and _ode_solver.t < _rf:\n",
    "        if save_data and _ode_solver.t > 0:\n",
    "            data_list.append({'r':_ode_solver.t, 'u' : _ode_solver.y[0]/_ode_solver.t-1, 'dpsi' : _ode_solver.y[1]})\n",
    "        _ode_solver.integrate(_ode_solver.t+_dr)\n",
    "    if save_data:\n",
    "        return data_list\n",
    "    return _ode_solver.y, _ode_solver.t\n",
    "    \n",
    "def sm_ode(rhs):\n",
    "    '''\n",
    "    Solves the equation using shotting method \n",
    "    '''\n",
    "    #set ode integrator \n",
    "    ode_solver = ode(rhs).set_integrator('dopri5', rtol=1e-6)\n",
    "    \n",
    "    # final integration \n",
    "    rf = 2000\n",
    "    \n",
    "    #shotting method search for solution of ode_solver.y[1] at r=rf \n",
    "    #gives an initial interval for ode_solver.y[1] at r=r0\n",
    "    #then try to find ode_solver.y[1](r0) shuch that ode_solver.y[1](tf) == target\n",
    "    x_i=1\n",
    "    x_f=1.2\n",
    "    \n",
    "    #target asymptotic value  \n",
    "    target=1\n",
    "    \n",
    "    #minum error for solution \n",
    "    tolerance=0.0001\n",
    "    \n",
    "    #store the result for 3 points [x_i, x, x_f]\n",
    "    result=[0,0,0]\n",
    "    \n",
    "    \n",
    "    data_list=list()\n",
    "    while(True):\n",
    "        \n",
    "        #make a random cut of the interval [x_i,x_f]\n",
    "        partition=np.random.rand()*(x_f-x_i)+x_i\n",
    "        \n",
    "        for x,i in zip([x_i,partition,x_f],[0,1,2]):\n",
    "            #integrate for each initial value of y[1]\n",
    "            y,r = integrate_rhs(x,ode_solver,rf, _dr=1)        \n",
    "            result[i]=np.abs(y[1])\n",
    "            \n",
    "        #test each solution to see if we have a good enough solution \n",
    "        if np.abs(result[0] - target) < tolerance:\n",
    "            #x_i is a good solution \n",
    "            #solve again but this time save the solution \n",
    "            data_list=integrate_rhs(x_i,ode_solver,rf,save_data=True)\n",
    "            print('solution', x_i)\n",
    "            break\n",
    "        elif np.abs(result[1] - target) < tolerance:\n",
    "            #partition is a good solution \n",
    "            #solve again but this time save the solution \n",
    "            data_list=integrate_rhs(partition,ode_solver,rf,save_data=True)\n",
    "            print('solution', partition)\n",
    "            break\n",
    "        elif np.abs(result[2] - target) < tolerance:\n",
    "            #x_f is a good solution \n",
    "            #solve again but this time save the solution \n",
    "            data_list=integrate_rhs(x_f,ode_solver,rf,save_data=True)\n",
    "            print('solution', x_f)\n",
    "            break \n",
    "\n",
    "        #find the location of the solution between [x_i,partition] and [partition,xf]\n",
    "        #reduce the interval\n",
    "        if result[0] < target and target <= result[1]:\n",
    "            x_f=partition\n",
    "        elif result[1] < target and target <= result[2]:\n",
    "            x_i=partition\n",
    "        else:\n",
    "            print('Solution out of interval',result)\n",
    "            break\n",
    "\n",
    "        print('Current error',[ np.abs(x-target) for x in result])\n",
    "    return data_list\n",
    " "
   ]
  },
  {
   "cell_type": "code",
   "execution_count": 3,
   "metadata": {},
   "outputs": [
    {
     "name": "stdout",
     "output_type": "stream",
     "text": [
      "Current error [0.0098155115005170712, 0.060209176735497527, 0.18822138619938]\n",
      "Current error [0.0098155115005170712, 0.0067409451287949729, 0.060209176735497527]\n",
      "Current error [0.0098155115005170712, 0.0085198446362633184, 0.0067409451287949729]\n",
      "Current error [0.0085198446362633184, 0.0041627001009719722, 0.0067409451287949729]\n",
      "Current error [0.0041627001009719722, 0.00035610539563557531, 0.0067409451287949729]\n",
      "Current error [0.0041627001009719722, 0.00075009540659221052, 0.00035610539563557531]\n",
      "Current error [0.00075009540659221052, 0.00030464443413635856, 0.00035610539563557531]\n",
      "Current error [0.00075009540659221052, 0.00020505316866792356, 0.00030464443413635856]\n",
      "Current error [0.00075009540659221052, 0.00018608054943225483, 0.00020505316866792356]\n",
      "solution 1.0099859077443418\n"
     ]
    }
   ],
   "source": [
    "   \n",
    "df_TestI=pd.DataFrame(sm_ode(rhs_TI))"
   ]
  },
  {
   "cell_type": "markdown",
   "metadata": {},
   "source": [
    "### Here we compare case I with the original data generated with mathematica "
   ]
  },
  {
   "cell_type": "code",
   "execution_count": 4,
   "metadata": {},
   "outputs": [
    {
     "data": {
      "text/plain": [
       "<matplotlib.legend.Legend at 0x109d418d0>"
      ]
     },
     "execution_count": 4,
     "metadata": {},
     "output_type": "execute_result"
    },
    {
     "data": {
      "image/png": "[encoded data removed]",
      "text/plain": [
       "<matplotlib.figure.Figure at 0x109d41be0>"
      ]
     },
     "metadata": {},
     "output_type": "display_data"
    }
   ],
   "source": [
    "#read original data \n",
    "df_original_TI = pd.read_table('original_testI_u.tsv.gz',compression='gzip',header=0,names=['r','na','u'])\n",
    "ax=df_TestI.set_index('r')['u'].plot(title='Case I')\n",
    "df_original_TI.set_index('r')['u'].plot(ax=ax)\n",
    "ax.legend(['new','original'])\n"
   ]
  },
  {
   "cell_type": "markdown",
   "metadata": {},
   "source": [
    "## Case II \n",
    "\n",
    "We use the following scalar field and potential (**note that the paper has a missing factor before $\\phi_0$**):\n",
    "\n",
    "$$ \\phi(r)=\\left( \\frac{a_2^2}{a_2^2+1}\\right)\\phi_0 \\mathrm{e}^{-\\frac{(r-r_0)^2}{\\sigma}} ,$$\n",
    "$$ V(r)= \\frac{1}{32\\pi a_2}\\left( 1- \\mathrm{e}^{4\\sqrt{\\pi/3} \\phi} \\right)^2 \\mathrm{e}^{-8\\sqrt{\\pi/3} \\phi}$$\n",
    "\n",
    "We will reduce (41) to a first order form introducing $y_0=\\psi_1$ and $y_1:=\\psi_1'$ \n",
    "\n",
    "therefore. In first order form: \n",
    "\n",
    "\n",
    "(41-a')$$ y_0'=y_1,$$\n",
    "(41-b')$$ y_1'= - \\pi y_0(\\phi')-2\\pi V(r)\\frac{\\psi_1^5}{r^4+\\epsilon},$$\n",
    "(42')$$ y_0(0) = 0,$$ \n",
    "(43')$$ y_1(r_\\mathrm{max} ) = 1.$$ \n",
    "\n",
    "where $\\epsilon=10^{-12}$ is introduced to avoid singular values in the solution \n",
    "\n",
    "in code we refer to the right hand side of this system as `rhs_TI`"
   ]
  },
  {
   "cell_type": "code",
   "execution_count": 5,
   "metadata": {},
   "outputs": [
    {
     "name": "stdout",
     "output_type": "stream",
     "text": [
      "Current error [0.092614302230255019, 0.016870927528310986, 0.0035538167643958118]\n",
      "Current error [0.016870927528310986, 0.014684447365205688, 0.0035538167643958118]\n",
      "Current error [0.014684447365205688, 0.0015961209162043133, 0.0035538167643958118]\n",
      "Current error [0.0015961209162043133, 0.00036770417244202935, 0.0035538167643958118]\n",
      "Current error [0.00036770417244202935, 0.0031272703759723797, 0.0035538167643958118]\n",
      "Current error [0.00036770417244202935, 0.0019248107160847461, 0.0031272703759723797]\n",
      "solution 1.1882959522961807\n"
     ]
    }
   ],
   "source": [
    "\n",
    "def rhs_TII(t, y):\n",
    "    phi=(a2**2/(a2**2+1))*phi0*np.exp( -(t-r0)**2/sigma )\n",
    "    dphi=-2*phi*(t-r0)/sigma\n",
    "    V=(1-np.exp(4*np.sqrt(np.pi/3)*phi))**2*np.exp(-8*np.sqrt(np.pi/3.)*phi)/(32.*np.pi*a2)\n",
    "    #cure the singulatiry with the term t**4+1e-12 instead of t**4\n",
    "    return [y[1], -np.pi*y[0]*dphi**2-2*np.pi*V*y[0]**5/(t**4+1e-12)]\n",
    "    \n",
    "df_TestII=pd.DataFrame(sm_ode(rhs_TII))"
   ]
  },
  {
   "cell_type": "markdown",
   "metadata": {},
   "source": [
    "### Here we compare case II with the original data generated with mathematica "
   ]
  },
  {
   "cell_type": "code",
   "execution_count": 6,
   "metadata": {},
   "outputs": [
    {
     "data": {
      "text/plain": [
       "<matplotlib.legend.Legend at 0x10a03e080>"
      ]
     },
     "execution_count": 6,
     "metadata": {},
     "output_type": "execute_result"
    },
    {
     "data": {
      "image/png": "[encoded data removed]",
      "text/plain": [
       "<matplotlib.figure.Figure at 0x10a053550>"
      ]
     },
     "metadata": {},
     "output_type": "display_data"
    }
   ],
   "source": [
    "#read original data \n",
    "df_original_TII = pd.read_table('original_testII_u.tsv.gz',compression='gzip',header=0,names=['r','na','u'])\n",
    "ax=df_TestII.set_index('r')['u'].plot(title='Case II')\n",
    "df_original_TII.set_index('r')['u'].plot(ax=ax)\n",
    "ax.legend(['new','original'])\n"
   ]
  },
  {
   "cell_type": "markdown",
   "metadata": {},
   "source": [
    "## 1. Test problem correction \n",
    "\n",
    "There is a typo in the paper's equation (41). The intended test is missing a $1/r$ factor in the second term. \n",
    "The overall restuls are not changed by this typo. We intended to test:\n",
    "\n",
    "(41'')$$ \\psi_1''+ \\frac{\\pi}{r} \\psi_1(\\phi')+2\\pi V(r)\\frac{\\psi_1^5}{r^4} =0,$$\n",
    "(42'')$$ \\psi_1(0) = 0,$$ \n",
    "(43'')$$ \\psi_1'(r_\\mathrm{max} ) = 1.$$ \n",
    "\n",
    "in the code we will add a term $\\epsilon=10^{-12}$ to the factors $1/r$ and $1/r^4$ to avoid singular values  "
   ]
  },
  {
   "cell_type": "markdown",
   "metadata": {},
   "source": [
    "# Case I (correction) "
   ]
  },
  {
   "cell_type": "code",
   "execution_count": 7,
   "metadata": {},
   "outputs": [
    {
     "name": "stdout",
     "output_type": "stream",
     "text": [
      "solution 1\n"
     ]
    }
   ],
   "source": [
    "def rhs_TIa(t, y):\n",
    "    dphi=(a2**2/(a2**2+1))*phi0*(1-np.tanh((t-r0)/sigma)**2)/sigma\n",
    "    return [y[1], -np.pi*y[0]*dphi**2/(t+1e-12)]\n",
    "\n",
    "df_TestIa = pd.DataFrame(sm_ode(rhs_TIa))"
   ]
  },
  {
   "cell_type": "markdown",
   "metadata": {},
   "source": [
    "### Here we compare with the original solution"
   ]
  },
  {
   "cell_type": "code",
   "execution_count": 8,
   "metadata": {},
   "outputs": [
    {
     "data": {
      "text/plain": [
       "<matplotlib.legend.Legend at 0x10a1ec320>"
      ]
     },
     "execution_count": 8,
     "metadata": {},
     "output_type": "execute_result"
    },
    {
     "data": {
      "image/png": "[encoded data removed]",
      "text/plain": [
       "<matplotlib.figure.Figure at 0x10a033240>"
      ]
     },
     "metadata": {},
     "output_type": "display_data"
    }
   ],
   "source": [
    "\n",
    "ax=df_TestIa.set_index('r')['u'].plot(title='Case I vs Correction TI')\n",
    "df_original_TI.set_index('r')['u'].plot(ax=ax)\n",
    "ax.legend(['correction','original'])"
   ]
  },
  {
   "cell_type": "code",
   "execution_count": 9,
   "metadata": {},
   "outputs": [
    {
     "data": {
      "text/plain": [
       "<matplotlib.axes._subplots.AxesSubplot at 0x10a19e1d0>"
      ]
     },
     "execution_count": 9,
     "metadata": {},
     "output_type": "execute_result"
    },
    {
     "data": {
      "image/png": "[encoded data removed]",
      "text/plain": [
       "<matplotlib.figure.Figure at 0x109f0bc18>"
      ]
     },
     "metadata": {},
     "output_type": "display_data"
    }
   ],
   "source": [
    "df_TestIa.set_index('r')['u'].plot(title='Correction TI')"
   ]
  },
  {
   "cell_type": "markdown",
   "metadata": {},
   "source": [
    "# Case II (correction) "
   ]
  },
  {
   "cell_type": "code",
   "execution_count": 10,
   "metadata": {},
   "outputs": [
    {
     "name": "stdout",
     "output_type": "stream",
     "text": [
      "Current error [0.066839216384930178, 0.029602979617195935, 0.034354453858439493]\n",
      "Current error [0.066839216384930178, 0.045918296603964071, 0.029602979617195935]\n",
      "Current error [0.045918296603964071, 0.012273991613970359, 0.029602979617195935]\n",
      "Current error [0.012273991613970359, 0.0053245892056756894, 0.029602979617195935]\n",
      "Current error [0.0053245892056756894, 0.011127211111162216, 0.029602979617195935]\n",
      "Current error [0.0053245892056756894, 0.0069621993236319568, 0.011127211111162216]\n",
      "Current error [0.0053245892056756894, 0.0035786289253585402, 0.0069621993236319568]\n",
      "Current error [0.0053245892056756894, 0.0027050534830613815, 0.0035786289253585402]\n",
      "Current error [0.0027050534830613815, 0.0010081921471944977, 0.0035786289253585402]\n",
      "Current error [0.0010081921471944977, 0.0027626631738451035, 0.0035786289253585402]\n",
      "Current error [0.0010081921471944977, 0.00030971487370945461, 0.0027626631738451035]\n",
      "Current error [0.0010081921471944977, 0.00071928667270748647, 0.00030971487370945461]\n",
      "Current error [0.00071928667270748647, 0.00040677844632797111, 0.00030971487370945461]\n",
      "Current error [0.00040677844632797111, 0.00033765289964049483, 0.00030971487370945461]\n",
      "Current error [0.00033765289964049483, 0.00015422808598519744, 0.00030971487370945461]\n",
      "solution 1.1150121606137648\n"
     ]
    }
   ],
   "source": [
    "def rhs_TIIa(t, y):\n",
    "    phi=(a2**2/(a2**2+1))*phi0*np.exp( -(t-r0)**2/sigma )\n",
    "    dphi=-2*phi*(t-r0)/sigma\n",
    "    V=(1-np.exp(4*np.sqrt(np.pi/3)*phi))**2*np.exp(-8*np.sqrt(np.pi/3.)*phi)/(32.*np.pi*a2)\n",
    "    #cure the singulatiry with the term t**4+1e-12 instead of t**4\n",
    "    return [y[1], -np.pi*y[0]*dphi**2/(t+1e-12)-2*np.pi*V*y[0]**5/(t**4+1e-12)]\n",
    "    \n",
    "df_TestIIa=pd.DataFrame(sm_ode(rhs_TIIa))"
   ]
  },
  {
   "cell_type": "markdown",
   "metadata": {},
   "source": [
    "### Here we compare with the original solution¶"
   ]
  },
  {
   "cell_type": "code",
   "execution_count": 11,
   "metadata": {},
   "outputs": [
    {
     "data": {
      "text/plain": [
       "<matplotlib.legend.Legend at 0x10ac06748>"
      ]
     },
     "execution_count": 11,
     "metadata": {},
     "output_type": "execute_result"
    },
    {
     "data": {
      "image/png": "[encoded data removed]",
      "text/plain": [
       "<matplotlib.figure.Figure at 0x10aa11080>"
      ]
     },
     "metadata": {},
     "output_type": "display_data"
    }
   ],
   "source": [
    "#read original data \n",
    "ax=df_TestIIa.set_index('r')['u'].plot(title='Case I vs Correction TII')\n",
    "df_original_TII.set_index('r')['u'].plot(ax=ax)\n",
    "ax.legend(['correction','original'])"
   ]
  },
  {
   "cell_type": "code",
   "execution_count": null,
   "metadata": {
    "collapsed": true
   },
   "outputs": [],
   "source": []
  }
 ],
 "metadata": {
  "kernelspec": {
   "display_name": "Python 3",
   "language": "python",
   "name": "python3"
  },
  "language_info": {
   "codemirror_mode": {
    "name": "ipython",
    "version": 3
   },
   "file_extension": ".py",
   "mimetype": "text/x-python",
   "name": "python",
   "nbconvert_exporter": "python",
   "pygments_lexer": "ipython3",
   "version": "3.6.1"
  }
 },
 "nbformat": 4,
 "nbformat_minor": 2
}
