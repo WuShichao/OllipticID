{
 "cells": [
  {
   "cell_type": "code",
   "execution_count": null,
   "metadata": {},
   "outputs": [],
   "source": [
    "import sympy as sp\n",
    "from sympy.tensor.array import * \n",
    "import numpy as np \n",
    "from ipywidgets import interact, interact_manual,fixed\n",
    "from ipywidgets import widgets # Widget definitions\n",
    "from IPython.display import display, HTML, Math, Latex # Used to display widgets in the notebook\n",
    "from sympy.utilities.codegen import codegen\n",
    "from sympy.interactive import printing\n",
    "printing.init_printing(use_latex=True)\n",
    "import re\n",
    "\n",
    "import timeit "
   ]
  },
  {
   "cell_type": "code",
   "execution_count": null,
   "metadata": {},
   "outputs": [],
   "source": [
    "t, x, y, z = sp.symbols('t,x,y,z')\n",
    "psi=sp.Function('psi')(t,x,y,z)\n",
    "phi=sp.Function('phi')(t,x,y,z)\n",
    "alpha_GB=sp.symbols('alpha_GB')\n"
   ]
  },
  {
   "cell_type": "code",
   "execution_count": null,
   "metadata": {},
   "outputs": [],
   "source": [
    "Dpsi=Array([psi.diff(c) for c in [x,y,z]])\n",
    "Dphi=Array([phi.diff(c) for c in [x,y,z]])"
   ]
  },
  {
   "cell_type": "code",
   "execution_count": null,
   "metadata": {},
   "outputs": [],
   "source": [
    "DDpsi= Array([[psi.diff(c,d) for c in [x,y,z]] for d in [x,y,z]])\n",
    "DDphi= Array([[phi.diff(c,d) for c in [x,y,z]] for d in [x,y,z]])"
   ]
  },
  {
   "cell_type": "code",
   "execution_count": null,
   "metadata": {},
   "outputs": [],
   "source": [
    "h=Array(sp.eye(3))\n",
    "ih=Array(sp.eye(3))"
   ]
  },
  {
   "cell_type": "code",
   "execution_count": null,
   "metadata": {},
   "outputs": [],
   "source": [
    "def print_olliptic_code(expr):\n",
    "    print('input:')\n",
    "    display(expr)\n",
    "    expr_str=str( expr)\n",
    "    expr_str=expr_str.replace('(t, x, y, z)','')\n",
    "    expr_str=re.sub(r'Derivative\\((\\w*),\\s([x,y,z]?)\\)',r'\\1_d\\2',expr_str)\n",
    "    expr_str=re.sub(r'Derivative\\((\\w*),\\s([x,y,z]?),\\s([x,y,z]?)\\)',r'\\1_d\\2d\\3',expr_str)\n",
    "    print('output:')\n",
    "    sp.printing.print_ccode( expr_str )\n",
    "\n"
   ]
  },
  {
   "cell_type": "code",
   "execution_count": null,
   "metadata": {},
   "outputs": [],
   "source": [
    "def term0(a,b):\n",
    "    return ih[a,b]*Dphi[a]*Dphi[b]\n",
    "\n",
    "t1=0\n",
    "for a in [0,1,2]:\n",
    "    for b in [0,1,2]:\n",
    "        t1+=term0(a,b)\n",
    "t1=-psi**4*t1/4    \n",
    "t1"
   ]
  },
  {
   "cell_type": "code",
   "execution_count": null,
   "metadata": {},
   "outputs": [],
   "source": [
    "my_expr=t1.factor(psi**4)\n",
    "print_olliptic_code(my_expr)\n",
    "my_expr"
   ]
  },
  {
   "cell_type": "code",
   "execution_count": null,
   "metadata": {},
   "outputs": [],
   "source": [
    "def term1(a,b,c,d):\n",
    "    return ih[a,c]*ih[b,d]*Dphi[a]*Dphi[b]*Dpsi[c]*Dpsi[d]\n",
    "\n",
    "def term2(a,b,c,d):\n",
    "    return ih[a,b]*ih[c,d]*Dphi[a]*Dphi[b]*Dpsi[c]*Dpsi[d]\n",
    "\n",
    "def term3(a,b,c,d):\n",
    "    return ih[a,b]*ih[c,d]*Dphi[a]*Dpsi[b]*Dpsi[c]*Dpsi[d]\n",
    "\n",
    "def term4(a,b,c,d):\n",
    "    return ih[a,b]*ih[c,d]*DDphi[c,a]*DDpsi[d,b]\n",
    "\n",
    "def term5(a,b,c,d):\n",
    "    return ih[a,c]*ih[b,d]*Dpsi[a]*Dpsi[b]*DDpsi[d,c]\n",
    "\n",
    "def term6(a,b,c,d):\n",
    "    return ih[a,b]*ih[c,d]*Dpsi[a]*Dpsi[b]*DDphi[d,c]\n",
    "\n",
    "def term7(a,b,c,d):\n",
    "    return ih[a,c]*ih[b,d]*Dphi[a]*Dphi[b]*DDpsi[d,c]\n",
    "\n",
    "def term8(a,b,c,d):\n",
    "    return ih[a,b]*ih[c,d]*Dphi[a]*Dphi[b]*DDpsi[d,c]\n",
    "\n",
    "def term9(a,b,c,d):\n",
    "    return ih[a,c]*ih[b,d]*Dphi[a]*Dpsi[b]*DDpsi[d,c]\n",
    "\n",
    "def term10(a,b,c,d):\n",
    "    return ih[a,b]*ih[c,d]*DDphi[b,a]*DDpsi[d,c]\n",
    "\n",
    "\n",
    "\n",
    "t2=0\n",
    "for a in [0,1,2]:\n",
    "    for b in [0,1,2]:\n",
    "        for c in [0,1,2]:\n",
    "            for d in [0,1,2]:\n",
    "                t2+= 24*term1(a,b,c,d)/psi**2 - 8*term2(a,b,c,d)/psi**2\n",
    "                t2+= 64*term3(a,b,c,d)/psi**3 + 8*term4(a,b,c,d)/psi\n",
    "                t2+= 24*term5(a,b,c,d)/psi**2 + 8*term6(a,b,c,d)/psi**2\n",
    "                t2+=  8*term7(a,b,c,d)/psi    + 8*term8(a,b,c,d)/psi\n",
    "                t2+= 32*term9(a,b,c,d)/psi**2 - 8*term10(a,b,c,d)/psi\n",
    "\n",
    "                \n",
    "t2=alpha_GB*sp.exp(-phi)*t2\n",
    "rho=t1+t2"
   ]
  },
  {
   "cell_type": "code",
   "execution_count": null,
   "metadata": {},
   "outputs": [],
   "source": [
    "print_olliptic_code((-rho/(4*psi**3)).expand())"
   ]
  },
  {
   "cell_type": "code",
   "execution_count": null,
   "metadata": {},
   "outputs": [],
   "source": [
    "def term3(a,b,c,d):\n",
    "    return ih[a,c]*ih[b,d]*Dphi[a]*Dphi[b]*Dpsi[c]*Dpsi[d]\n",
    "\n",
    "t2=0\n",
    "for a in [0,1,2]:\n",
    "    for b in [0,1,2]:\n",
    "        for c in [0,1,2]:\n",
    "            for d in [0,1,2]:\n",
    "                t2+=term2(a,b,c,d)\n",
    "                \n",
    "t2=24*alpha_GB*sp.exp(-phi)*t2/psi**2    \n",
    "t2"
   ]
  },
  {
   "cell_type": "code",
   "execution_count": null,
   "metadata": {},
   "outputs": [],
   "source": [
    "re.sub(r'Derivative\\((\\w*),\\s([x,y,z]?)\\)',r'\\1_d\\2','pow(Derivative(phi, x), 2)')"
   ]
  },
  {
   "cell_type": "code",
   "execution_count": null,
   "metadata": {
    "collapsed": true
   },
   "outputs": [],
   "source": [
    "regex = re.compile(r'Derivative\\(\\w*,\\s[x,y,z]?\\)')"
   ]
  },
  {
   "cell_type": "code",
   "execution_count": null,
   "metadata": {},
   "outputs": [],
   "source": [
    "regex.sub(r'\\0','Derivative(phi, x)')"
   ]
  },
  {
   "cell_type": "code",
   "execution_count": null,
   "metadata": {},
   "outputs": [],
   "source": [
    "help(re.sub)"
   ]
  },
  {
   "cell_type": "code",
   "execution_count": null,
   "metadata": {},
   "outputs": [],
   "source": [
    "DDpsi[1,2]"
   ]
  },
  {
   "cell_type": "code",
   "execution_count": null,
   "metadata": {},
   "outputs": [],
   "source": [
    "DDpsi[2,1]"
   ]
  },
  {
   "cell_type": "code",
   "execution_count": null,
   "metadata": {},
   "outputs": [],
   "source": [
    "t2.expand().factor(Dpsi.tolist())"
   ]
  },
  {
   "cell_type": "code",
   "execution_count": null,
   "metadata": {
    "collapsed": true
   },
   "outputs": [],
   "source": [
    "sp.exp(-(x-y)**2)"
   ]
  }
 ],
 "metadata": {
  "kernelspec": {
   "display_name": "Python 2",
   "language": "python",
   "name": "python2"
  },
  "language_info": {
   "codemirror_mode": {
    "name": "ipython",
    "version": 2
   },
   "file_extension": ".py",
   "mimetype": "text/x-python",
   "name": "python",
   "nbconvert_exporter": "python",
   "pygments_lexer": "ipython2",
   "version": "2.7.13"
  }
 },
 "nbformat": 4,
 "nbformat_minor": 2
}
